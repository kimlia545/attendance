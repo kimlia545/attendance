{
  "nbformat": 4,
  "nbformat_minor": 0,
  "metadata": {
    "kernelspec": {
      "display_name": "Python 3",
      "language": "python",
      "name": "python3"
    },
    "language_info": {
      "codemirror_mode": {
        "name": "ipython",
        "version": 3
      },
      "file_extension": ".py",
      "mimetype": "text/x-python",
      "name": "python",
      "nbconvert_exporter": "python",
      "pygments_lexer": "ipython3",
      "version": "3.7.9"
    },
    "colab": {
      "name": "train.ipynb",
      "provenance": [],
      "collapsed_sections": []
    }
  },
  "cells": [
    {
      "cell_type": "code",
      "metadata": {
        "id": "InSjFyqaHBBG"
      },
      "source": [
        "import datetime\n",
        "import numpy as np\n",
        "import matplotlib.pyplot as plt\n",
        "from keras.layers import Input, Activation, Conv2D, Flatten, Dense, MaxPooling2D\n",
        "from keras.models import Model, load_model\n",
        "# 데이터를 인위적으로 변형하여 증가(학습데이터 부족시 사용)\n",
        "from keras.preprocessing.image import ImageDataGenerator\n",
        "from keras.callbacks import ModelCheckpoint, ReduceLROnPlateau\n",
        "plt.style.use('dark_background')"
      ],
      "execution_count": null,
      "outputs": []
    },
    {
      "cell_type": "markdown",
      "metadata": {
        "id": "XK-UtT2rHBBQ"
      },
      "source": [
        "# Load Dataset"
      ]
    },
    {
      "cell_type": "code",
      "metadata": {
        "id": "UPvrocfzHBBR",
        "outputId": "e60ee887-a13f-41bd-8c9f-ccbc96761a33"
      },
      "source": [
        "# 데이터 로드\n",
        "x_train = np.load('dataset/x_train.npy').astype(np.float32) \n",
        "y_train = np.load('dataset/y_train.npy').astype(np.float32)\n",
        "x_val = np.load('dataset/x_val.npy').astype(np.float32)\n",
        "y_val = np.load('dataset/y_val.npy').astype(np.float32)\n",
        "\n",
        "print(x_train.shape, y_train.shape)\n",
        "print(x_val.shape, y_val.shape)\n",
        "# 0: 눈 감음 / 1: 눈 뜸"
      ],
      "execution_count": null,
      "outputs": [
        {
          "output_type": "stream",
          "text": [
            "(2586, 26, 34, 1) (2586, 1)\n",
            "(288, 26, 34, 1) (288, 1)\n"
          ],
          "name": "stdout"
        }
      ]
    },
    {
      "cell_type": "markdown",
      "metadata": {
        "id": "sdb0Q2luHBBb"
      },
      "source": [
        "# Preview"
      ]
    },
    {
      "cell_type": "code",
      "metadata": {
        "id": "tR2JondHHBBc",
        "outputId": "a6a9bd90-7d21-40bd-c307-e3881d5049b8"
      },
      "source": [
        "plt.subplot(2, 1, 1)\n",
        "plt.title(str(y_train[0]))\n",
        "plt.imshow(x_train[0].reshape((26, 34)), cmap='gray')\n",
        "plt.subplot(2, 1, 2)\n",
        "plt.title(str(y_val[4]))\n",
        "plt.imshow(x_val[4].reshape((26, 34)), cmap='gray')"
      ],
      "execution_count": null,
      "outputs": [
        {
          "output_type": "execute_result",
          "data": {
            "text/plain": [
              "<matplotlib.image.AxesImage at 0x197b652de88>"
            ]
          },
          "metadata": {
            "tags": []
          },
          "execution_count": 6
        },
        {
          "output_type": "display_data",
          "data": {
            "image/png": "[encoded data removed]",
            "text/plain": [
              "<Figure size 432x288 with 2 Axes>"
            ]
          },
          "metadata": {
            "tags": []
          }
        }
      ]
    },
    {
      "cell_type": "markdown",
      "metadata": {
        "id": "fZj74gZbHBBj"
      },
      "source": [
        "# Data Augmentation"
      ]
    },
    {
      "cell_type": "code",
      "metadata": {
        "id": "4HAJbG6SHBBk"
      },
      "source": [
        "# 데이터가 부족할 때 사용 -> 이미지형태가 다양해지므로 모델이 좀 더 잘 학습할 수 있음\n",
        "train_datagen = ImageDataGenerator( # 이미지 처리를 도와주는 클래스\n",
        "    rescale=1./255, # 원래이미지(0~255) -> 255로 나누어 줌으로써 0~1 값으로 변경\n",
        "    rotation_range=10, # 10도 돌리기\n",
        "    width_shift_range=0.2, # 가로크기 변경\n",
        "    height_shift_range=0.2, # 세로크기 변경\n",
        "    shear_range=0.2 # 이미지를 약간 비틈\n",
        ")\n",
        "\n",
        "# 검증 데이터셋은 데이터를 비틀 필요가 없으므로 rescale만 진행\n",
        "val_datagen = ImageDataGenerator(rescale=1./255)\n",
        "\n",
        "train_generator = train_datagen.flow(\n",
        "    x=x_train, y=y_train,\n",
        "    batch_size=32, # 32개씩 데이터 꺼내옴\n",
        "    shuffle=True # 순서를 섞음\n",
        ")\n",
        "\n",
        "val_generator = val_datagen.flow(\n",
        "    x=x_val, y=y_val,\n",
        "    batch_size=32,\n",
        "    shuffle=False\n",
        ")"
      ],
      "execution_count": null,
      "outputs": []
    },
    {
      "cell_type": "markdown",
      "metadata": {
        "id": "6P3Ytw10HBBq"
      },
      "source": [
        "# Build Model"
      ]
    },
    {
      "cell_type": "code",
      "metadata": {
        "id": "CQfPYg6THBBr",
        "outputId": "b849ced7-bb9c-425f-9b4a-962ebfcb6e80"
      },
      "source": [
        "inputs = Input(shape=(26, 34, 1)) # 세로26 가로34 그레이스케일인 이미지\n",
        "\n",
        "# 커널수만 변경 32->64->128\n",
        "net = Conv2D(32, kernel_size=3, strides=1, padding='same', activation='relu')(inputs)\n",
        "net = MaxPooling2D(pool_size=2)(net) # 차원축소\n",
        "\n",
        "net = Conv2D(64, kernel_size=3, strides=1, padding='same', activation='relu')(net)\n",
        "net = MaxPooling2D(pool_size=2)(net)\n",
        "\n",
        "net = Conv2D(128, kernel_size=3, strides=1, padding='same', activation='relu')(net)\n",
        "net = MaxPooling2D(pool_size=2)(net)\n",
        "\n",
        "net = Flatten()(net) # convolution & Pooling layer(특징추출)를 1차원으로 펴줌\n",
        "\n",
        "net = Dense(512)(net) # 512개로 수렴. fully-connected layer(분류)와 연결\n",
        "net = Activation('relu')(net)\n",
        "net = Dense(1)(net) # 마지막 레이어는 1개(0~1사이 값 1개로로 나오게 함)\n",
        "outputs = Activation('sigmoid')(net) # 거의 0, 거의 1에 가까운 0~1사이값으로 나오게 됨\n",
        "\n",
        "model = Model(inputs=inputs, outputs=outputs) # 모델에 input, output 정의\n",
        "\n",
        "# binary_crossentropy : 0이냐? 1이냐?\n",
        "model.compile(optimizer='adam', loss='binary_crossentropy', metrics=['acc'])\n",
        "\n",
        "model.summary()\n",
        "\n",
        "# 880,129 파라미터를 학습시킬 예정"
      ],
      "execution_count": null,
      "outputs": [
        {
          "output_type": "stream",
          "text": [
            "Model: \"model_1\"\n",
            "_________________________________________________________________\n",
            "Layer (type)                 Output Shape              Param #   \n",
            "=================================================================\n",
            "input_1 (InputLayer)         (None, 26, 34, 1)         0         \n",
            "_________________________________________________________________\n",
            "conv2d_1 (Conv2D)            (None, 26, 34, 32)        320       \n",
            "_________________________________________________________________\n",
            "max_pooling2d_1 (MaxPooling2 (None, 13, 17, 32)        0         \n",
            "_________________________________________________________________\n",
            "conv2d_2 (Conv2D)            (None, 13, 17, 64)        18496     \n",
            "_________________________________________________________________\n",
            "max_pooling2d_2 (MaxPooling2 (None, 6, 8, 64)          0         \n",
            "_________________________________________________________________\n",
            "conv2d_3 (Conv2D)            (None, 6, 8, 128)         73856     \n",
            "_________________________________________________________________\n",
            "max_pooling2d_3 (MaxPooling2 (None, 3, 4, 128)         0         \n",
            "_________________________________________________________________\n",
            "flatten_1 (Flatten)          (None, 1536)              0         \n",
            "_________________________________________________________________\n",
            "dense_1 (Dense)              (None, 512)               786944    \n",
            "_________________________________________________________________\n",
            "activation_1 (Activation)    (None, 512)               0         \n",
            "_________________________________________________________________\n",
            "dense_2 (Dense)              (None, 1)                 513       \n",
            "_________________________________________________________________\n",
            "activation_2 (Activation)    (None, 1)                 0         \n",
            "=================================================================\n",
            "Total params: 880,129\n",
            "Trainable params: 880,129\n",
            "Non-trainable params: 0\n",
            "_________________________________________________________________\n"
          ],
          "name": "stdout"
        }
      ]
    },
    {
      "cell_type": "markdown",
      "metadata": {
        "id": "CdGHwwMbHBBz"
      },
      "source": [
        "# Train"
      ]
    },
    {
      "cell_type": "code",
      "metadata": {
        "id": "pUe1xRF0HBB0",
        "outputId": "a4d9a101-e7e3-45e0-9414-3667c914d525"
      },
      "source": [
        "start_time = datetime.datetime.now().strftime('%Y_%m_%d_%H_%M_%S')\n",
        "\n",
        "# generator로 데이터를 로드했을 경우 fit_generator로 학습시켜주는 것이 좋음\n",
        "# 반복학습 : 50번\n",
        "model.fit_generator( \n",
        "    train_generator, epochs=50, validation_data=val_generator,\n",
        "    callbacks=[\n",
        "        # 모델이 좋으면 저장해라\n",
        "        ModelCheckpoint('models/blink/%s.h5' % (start_time), monitor='val_acc', save_best_only=True, mode='max', verbose=1),\n",
        "        # 학습이 잘 안된다면 러닝레이트를 줄여라\n",
        "        # plateau : 정체기라는 의미\n",
        "        # 모델의 정확도가 향상되지 않는 경우 learning rate(lr) 줄여주는 클래스\n",
        "        ReduceLROnPlateau(monitor='val_acc', factor=0.2, patience=10, verbose=1, mode='auto', min_lr=1e-05)\n",
        "    ]\n",
        ")"
      ],
      "execution_count": null,
      "outputs": [
        {
          "output_type": "stream",
          "text": [
            "Epoch 1/50\n",
            "81/81 [==============================] - 2s 30ms/step - loss: 0.1784 - acc: 0.9377 - val_loss: 0.0563 - val_acc: 0.9722\n",
            "\n",
            "Epoch 00001: val_acc improved from -inf to 0.97222, saving model to models/2020_10_22_14_47_26.h5\n",
            "Epoch 2/50\n",
            "81/81 [==============================] - 2s 29ms/step - loss: 0.1352 - acc: 0.9520 - val_loss: 0.0445 - val_acc: 0.9792\n",
            "\n",
            "Epoch 00002: val_acc improved from 0.97222 to 0.97917, saving model to models/2020_10_22_14_47_26.h5\n",
            "Epoch 3/50\n",
            "81/81 [==============================] - 2s 30ms/step - loss: 0.1075 - acc: 0.9637 - val_loss: 0.0240 - val_acc: 0.9826\n",
            "\n",
            "Epoch 00003: val_acc improved from 0.97917 to 0.98264, saving model to models/2020_10_22_14_47_26.h5\n",
            "Epoch 4/50\n",
            "81/81 [==============================] - 3s 31ms/step - loss: 0.0903 - acc: 0.9671 - val_loss: 0.0176 - val_acc: 0.9792\n",
            "\n",
            "Epoch 00004: val_acc did not improve from 0.98264\n",
            "Epoch 5/50\n",
            "81/81 [==============================] - 2s 31ms/step - loss: 0.0884 - acc: 0.9710 - val_loss: 0.0130 - val_acc: 0.9826\n",
            "\n",
            "Epoch 00005: val_acc did not improve from 0.98264\n",
            "Epoch 6/50\n",
            "81/81 [==============================] - 2s 29ms/step - loss: 0.0689 - acc: 0.9753 - val_loss: 0.0193 - val_acc: 0.9861\n",
            "\n",
            "Epoch 00006: val_acc improved from 0.98264 to 0.98611, saving model to models/2020_10_22_14_47_26.h5\n",
            "Epoch 7/50\n",
            "81/81 [==============================] - 2s 29ms/step - loss: 0.0520 - acc: 0.9826 - val_loss: 0.0081 - val_acc: 0.9861\n",
            "\n",
            "Epoch 00007: val_acc did not improve from 0.98611\n",
            "Epoch 8/50\n",
            "81/81 [==============================] - 2s 29ms/step - loss: 0.0587 - acc: 0.9807 - val_loss: 0.0288 - val_acc: 0.9792\n",
            "\n",
            "Epoch 00008: val_acc did not improve from 0.98611\n",
            "Epoch 9/50\n",
            "81/81 [==============================] - 2s 30ms/step - loss: 0.0581 - acc: 0.9814 - val_loss: 0.0045 - val_acc: 0.9965\n",
            "\n",
            "Epoch 00009: val_acc improved from 0.98611 to 0.99653, saving model to models/2020_10_22_14_47_26.h5\n",
            "Epoch 10/50\n",
            "81/81 [==============================] - 3s 32ms/step - loss: 0.0542 - acc: 0.9799 - val_loss: 0.0033 - val_acc: 0.9931\n",
            "\n",
            "Epoch 00010: val_acc did not improve from 0.99653\n",
            "Epoch 11/50\n",
            "81/81 [==============================] - 3s 34ms/step - loss: 0.0469 - acc: 0.9830 - val_loss: 0.0066 - val_acc: 0.9861\n",
            "\n",
            "Epoch 00011: val_acc did not improve from 0.99653\n",
            "Epoch 12/50\n",
            "81/81 [==============================] - 3s 34ms/step - loss: 0.0372 - acc: 0.9849 - val_loss: 0.0030 - val_acc: 0.9896\n",
            "\n",
            "Epoch 00012: val_acc did not improve from 0.99653\n",
            "Epoch 13/50\n",
            "81/81 [==============================] - 3s 33ms/step - loss: 0.0444 - acc: 0.9841 - val_loss: 0.0063 - val_acc: 0.9861\n",
            "\n",
            "Epoch 00013: val_acc did not improve from 0.99653\n",
            "Epoch 14/50\n",
            "81/81 [==============================] - 3s 33ms/step - loss: 0.0302 - acc: 0.9899 - val_loss: 0.0038 - val_acc: 0.9896\n",
            "\n",
            "Epoch 00014: val_acc did not improve from 0.99653\n",
            "Epoch 15/50\n",
            "81/81 [==============================] - 3s 33ms/step - loss: 0.0293 - acc: 0.9876 - val_loss: 0.0016 - val_acc: 0.9931\n",
            "\n",
            "Epoch 00015: val_acc did not improve from 0.99653\n",
            "Epoch 16/50\n",
            "81/81 [==============================] - 3s 33ms/step - loss: 0.0387 - acc: 0.9888 - val_loss: 0.0079 - val_acc: 0.9896\n",
            "\n",
            "Epoch 00016: val_acc did not improve from 0.99653\n",
            "Epoch 17/50\n",
            "81/81 [==============================] - 3s 34ms/step - loss: 0.0409 - acc: 0.9861 - val_loss: 0.0196 - val_acc: 0.9826\n",
            "\n",
            "Epoch 00017: val_acc did not improve from 0.99653\n",
            "Epoch 18/50\n",
            "81/81 [==============================] - 3s 33ms/step - loss: 0.0318 - acc: 0.9884 - val_loss: 0.0164 - val_acc: 0.9896\n",
            "\n",
            "Epoch 00018: val_acc did not improve from 0.99653\n",
            "Epoch 19/50\n",
            "81/81 [==============================] - 3s 33ms/step - loss: 0.0254 - acc: 0.9930 - val_loss: 0.0042 - val_acc: 0.9896\n",
            "\n",
            "Epoch 00019: val_acc did not improve from 0.99653\n",
            "\n",
            "Epoch 00019: ReduceLROnPlateau reducing learning rate to 0.00020000000949949026.\n",
            "Epoch 20/50\n",
            "81/81 [==============================] - 3s 35ms/step - loss: 0.0182 - acc: 0.9938 - val_loss: 0.0060 - val_acc: 0.9896\n",
            "\n",
            "Epoch 00020: val_acc did not improve from 0.99653\n",
            "Epoch 21/50\n",
            "81/81 [==============================] - 3s 36ms/step - loss: 0.0099 - acc: 0.9981 - val_loss: 0.0028 - val_acc: 0.9896\n",
            "\n",
            "Epoch 00021: val_acc did not improve from 0.99653\n",
            "Epoch 22/50\n",
            "81/81 [==============================] - 3s 36ms/step - loss: 0.0166 - acc: 0.9950 - val_loss: 0.0023 - val_acc: 0.9896\n",
            "\n",
            "Epoch 00022: val_acc did not improve from 0.99653\n",
            "Epoch 23/50\n",
            "81/81 [==============================] - 3s 36ms/step - loss: 0.0132 - acc: 0.9954 - val_loss: 0.0027 - val_acc: 0.9931\n",
            "\n",
            "Epoch 00023: val_acc did not improve from 0.99653\n",
            "Epoch 24/50\n",
            "81/81 [==============================] - 3s 34ms/step - loss: 0.0103 - acc: 0.9969 - val_loss: 0.0014 - val_acc: 0.9931\n",
            "\n",
            "Epoch 00024: val_acc did not improve from 0.99653\n",
            "Epoch 25/50\n",
            "81/81 [==============================] - 3s 34ms/step - loss: 0.0111 - acc: 0.9961 - val_loss: 0.0014 - val_acc: 0.9931\n",
            "\n",
            "Epoch 00025: val_acc did not improve from 0.99653\n",
            "Epoch 26/50\n",
            "81/81 [==============================] - 3s 34ms/step - loss: 0.0095 - acc: 0.9969 - val_loss: 8.3772e-04 - val_acc: 0.9931\n",
            "\n",
            "Epoch 00026: val_acc did not improve from 0.99653\n",
            "Epoch 27/50\n",
            "81/81 [==============================] - 3s 34ms/step - loss: 0.0147 - acc: 0.9942 - val_loss: 0.0040 - val_acc: 0.9931\n",
            "\n",
            "Epoch 00027: val_acc did not improve from 0.99653\n",
            "Epoch 28/50\n",
            "81/81 [==============================] - 3s 36ms/step - loss: 0.0105 - acc: 0.9965 - val_loss: 0.0012 - val_acc: 0.9931\n",
            "\n",
            "Epoch 00028: val_acc did not improve from 0.99653\n",
            "Epoch 29/50\n",
            "81/81 [==============================] - 3s 41ms/step - loss: 0.0073 - acc: 0.9985 - val_loss: 9.4678e-04 - val_acc: 0.9931\n",
            "\n",
            "Epoch 00029: val_acc did not improve from 0.99653\n",
            "\n",
            "Epoch 00029: ReduceLROnPlateau reducing learning rate to 4.0000001899898055e-05.\n",
            "Epoch 30/50\n",
            "81/81 [==============================] - 3s 39ms/step - loss: 0.0097 - acc: 0.9961 - val_loss: 0.0016 - val_acc: 0.9931\n",
            "\n",
            "Epoch 00030: val_acc did not improve from 0.99653\n",
            "Epoch 31/50\n",
            "81/81 [==============================] - 3s 41ms/step - loss: 0.0083 - acc: 0.9973 - val_loss: 0.0014 - val_acc: 0.9931\n",
            "\n",
            "Epoch 00031: val_acc did not improve from 0.99653\n",
            "Epoch 32/50\n",
            "81/81 [==============================] - 3s 39ms/step - loss: 0.0107 - acc: 0.9957 - val_loss: 0.0011 - val_acc: 0.9931\n",
            "\n",
            "Epoch 00032: val_acc did not improve from 0.99653\n",
            "Epoch 33/50\n",
            "81/81 [==============================] - 3s 38ms/step - loss: 0.0084 - acc: 0.9985 - val_loss: 0.0012 - val_acc: 0.9931\n",
            "\n",
            "Epoch 00033: val_acc did not improve from 0.99653\n",
            "Epoch 34/50\n",
            "81/81 [==============================] - 3s 38ms/step - loss: 0.0120 - acc: 0.9965 - val_loss: 0.0019 - val_acc: 0.9931\n",
            "\n",
            "Epoch 00034: val_acc did not improve from 0.99653\n",
            "Epoch 35/50\n",
            "81/81 [==============================] - 3s 41ms/step - loss: 0.0080 - acc: 0.9977 - val_loss: 0.0019 - val_acc: 0.9931\n",
            "\n",
            "Epoch 00035: val_acc did not improve from 0.99653\n",
            "Epoch 36/50\n",
            "81/81 [==============================] - 3s 40ms/step - loss: 0.0080 - acc: 0.9973 - val_loss: 0.0018 - val_acc: 0.9965\n",
            "\n",
            "Epoch 00036: val_acc did not improve from 0.99653\n",
            "Epoch 37/50\n",
            "81/81 [==============================] - 3s 36ms/step - loss: 0.0073 - acc: 0.9977 - val_loss: 0.0015 - val_acc: 0.9931\n",
            "\n",
            "Epoch 00037: val_acc did not improve from 0.99653\n",
            "Epoch 38/50\n",
            "81/81 [==============================] - 3s 41ms/step - loss: 0.0057 - acc: 0.9981 - val_loss: 0.0018 - val_acc: 0.9931\n",
            "\n",
            "Epoch 00038: val_acc did not improve from 0.99653\n",
            "Epoch 39/50\n",
            "81/81 [==============================] - 4s 44ms/step - loss: 0.0074 - acc: 0.9981 - val_loss: 0.0012 - val_acc: 0.9931\n",
            "\n",
            "Epoch 00039: val_acc did not improve from 0.99653\n",
            "\n",
            "Epoch 00039: ReduceLROnPlateau reducing learning rate to 1e-05.\n",
            "Epoch 40/50\n",
            "81/81 [==============================] - 4s 43ms/step - loss: 0.0074 - acc: 0.9973 - val_loss: 0.0015 - val_acc: 0.9931\n",
            "\n",
            "Epoch 00040: val_acc did not improve from 0.99653\n",
            "Epoch 41/50\n",
            "81/81 [==============================] - 4s 46ms/step - loss: 0.0063 - acc: 0.9977 - val_loss: 0.0017 - val_acc: 0.9931\n",
            "\n",
            "Epoch 00041: val_acc did not improve from 0.99653\n",
            "Epoch 42/50\n",
            "81/81 [==============================] - 4s 46ms/step - loss: 0.0059 - acc: 0.9985 - val_loss: 0.0015 - val_acc: 0.9931\n",
            "\n",
            "Epoch 00042: val_acc did not improve from 0.99653\n",
            "Epoch 43/50\n"
          ],
          "name": "stdout"
        },
        {
          "output_type": "stream",
          "text": [
            "81/81 [==============================] - 4s 43ms/step - loss: 0.0069 - acc: 0.9988 - val_loss: 0.0016 - val_acc: 0.9931\n",
            "\n",
            "Epoch 00043: val_acc did not improve from 0.99653\n",
            "Epoch 44/50\n",
            "81/81 [==============================] - 3s 35ms/step - loss: 0.0051 - acc: 0.9988 - val_loss: 0.0015 - val_acc: 0.9931\n",
            "\n",
            "Epoch 00044: val_acc did not improve from 0.99653\n",
            "Epoch 45/50\n",
            "81/81 [==============================] - 3s 34ms/step - loss: 0.0069 - acc: 0.9977 - val_loss: 0.0019 - val_acc: 0.9931\n",
            "\n",
            "Epoch 00045: val_acc did not improve from 0.99653\n",
            "Epoch 46/50\n",
            "81/81 [==============================] - 3s 35ms/step - loss: 0.0051 - acc: 0.9977 - val_loss: 0.0017 - val_acc: 0.9931\n",
            "\n",
            "Epoch 00046: val_acc did not improve from 0.99653\n",
            "Epoch 47/50\n",
            "81/81 [==============================] - 3s 35ms/step - loss: 0.0059 - acc: 0.9985 - val_loss: 0.0016 - val_acc: 0.9931\n",
            "\n",
            "Epoch 00047: val_acc did not improve from 0.99653\n",
            "Epoch 48/50\n",
            "81/81 [==============================] - 3s 37ms/step - loss: 0.0082 - acc: 0.9977 - val_loss: 0.0015 - val_acc: 0.9931\n",
            "\n",
            "Epoch 00048: val_acc did not improve from 0.99653\n",
            "Epoch 49/50\n",
            "81/81 [==============================] - 3s 36ms/step - loss: 0.0071 - acc: 0.9977 - val_loss: 0.0014 - val_acc: 0.9931\n",
            "\n",
            "Epoch 00049: val_acc did not improve from 0.99653\n",
            "Epoch 50/50\n",
            "81/81 [==============================] - 3s 36ms/step - loss: 0.0086 - acc: 0.9977 - val_loss: 0.0016 - val_acc: 0.9931\n",
            "\n",
            "Epoch 00050: val_acc did not improve from 0.99653\n"
          ],
          "name": "stdout"
        },
        {
          "output_type": "execute_result",
          "data": {
            "text/plain": [
              "<keras.callbacks.callbacks.History at 0x197b694f708>"
            ]
          },
          "metadata": {
            "tags": []
          },
          "execution_count": 11
        }
      ]
    },
    {
      "cell_type": "markdown",
      "metadata": {
        "id": "7IN2fTphHBB7"
      },
      "source": [
        "# Confusion Matrix\n",
        "- 모델이 얼마나 잘 학습했는지 확인"
      ]
    },
    {
      "cell_type": "code",
      "metadata": {
        "id": "yuXNExxTHBB8",
        "outputId": "fdebe0a1-ea1e-4b93-eb85-ce715351870b"
      },
      "source": [
        "from sklearn.metrics import accuracy_score, confusion_matrix # 정확도점수, 오차행렬\n",
        "import seaborn as sns\n",
        "\n",
        "model = load_model('models/blink/%s.h5' % (start_time)) # 모델 로드\n",
        "\n",
        "y_pred = model.predict(x_val/255.) # 검증 이미지데이터로 예측, 이미지 0~1로 바꿔서\n",
        "y_pred_logical = (y_pred > 0.5).astype(np.int) # 0.5미만(눈 감음) / 나머지(눈뜸), True.. -> int형 변환 -> 0 or 1\n",
        "\n",
        "print ('test acc: %s' % accuracy_score(y_val, y_pred_logical))\n",
        "cm = confusion_matrix(y_val, y_pred_logical)\n",
        "sns.heatmap(cm, annot=True)"
      ],
      "execution_count": null,
      "outputs": [
        {
          "output_type": "stream",
          "text": [
            "test acc: 0.9965277777777778\n"
          ],
          "name": "stdout"
        },
        {
          "output_type": "execute_result",
          "data": {
            "text/plain": [
              "<AxesSubplot:>"
            ]
          },
          "metadata": {
            "tags": []
          },
          "execution_count": 12
        },
        {
          "output_type": "display_data",
          "data": {
            "image/png": "[encoded data removed]",
            "text/plain": [
              "<Figure size 432x288 with 2 Axes>"
            ]
          },
          "metadata": {
            "tags": []
          }
        }
      ]
    },
    {
      "cell_type": "markdown",
      "metadata": {
        "id": "zU7wV8rTHBCD"
      },
      "source": [
        "# Distribution of Prediction"
      ]
    },
    {
      "cell_type": "code",
      "metadata": {
        "id": "K2OT8yGoHBCE",
        "outputId": "5c9a97f1-47b6-4b20-909a-f2cd4562dee3"
      },
      "source": [
        "ax = sns.histplot(y_pred, kde=False)"
      ],
      "execution_count": null,
      "outputs": [
        {
          "output_type": "display_data",
          "data": {
            "image/png": "[encoded data removed]",
            "text/plain": [
              "<Figure size 432x288 with 1 Axes>"
            ]
          },
          "metadata": {
            "tags": []
          }
        }
      ]
    }
  ]
}